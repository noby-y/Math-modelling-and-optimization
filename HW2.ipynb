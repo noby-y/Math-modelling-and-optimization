{
 "cells": [
  {
   "cell_type": "code",
   "execution_count": 15,
   "metadata": {},
   "outputs": [],
   "source": [
    "import numpy as np\n",
    "import matplotlib.pyplot as plt"
   ]
  },
  {
   "cell_type": "markdown",
   "metadata": {},
   "source": [
    "# Домашня робота № 2 «Чисельні методи наближення функцій. Чисельні методи розв’язування СЛАР.»\n",
    "### Варіант 1\n",
    "## 1.\n",
    "Побудувати інтерполяційний многочлен Лагранжа $L_n(x)$ для функції $f(x)$, що задана таблицею, та обчислити значення функції у заданих точках. \n",
    "Побудувати графік інтерполяційної функції $y = L_n(x)$ за наявним набором точок. Для виконання завдання розробити програму на одній з мов програмування.\n",
    "\n",
    "\n",
    "\n",
    "Value table\n",
    "|$x_i$|-2|-1|0|1|\n",
    "|:-:|:-:|:-:|:-:|:-:|\n",
    "|$f(x_i)$|-7|4|1|2|\n",
    "\n",
    "\n",
    "#### Інтерполяційний многочлен Лагранжа n-го порядку: $L_n(x) = \\sum_{i=0}^{n}y_i\\frac{(x-x_0)...(x-x_{i-1})(x-x_{i+1})...(x-x_{n})}{(x_i-x_0)...(x_i-x_{i-1})(x_i-x_{i+1})...(x_i-x_n)}$\n",
    "\n",
    "$n = 3$ (4 points)\n",
    "\n",
    "$$\n",
    "    L_3(x) = y_0\\frac{(x-x_1)(x-x_2)(x-x_3)}{(x_0-x_1)(x_0-x_2)(x_0-x_3)} + y_1\\frac{(x-x_0)(x-x_2)(x-x_3)}{(x_1-x_0)(x_1-x_2)(x_1-x_3)} \\\\\n",
    "    + y_2\\frac{(x-x_0)(x-x_1)(x-x_3)}{(x_2-x_0)(x_2-x_1)(x_2-x_3)} + y_3\\frac{(x-x_0)(x-x_1)(x-x_2)}{(x_3-x_0)(x_3-x_1)(x_3-x_2)}\n",
    "$$\n",
    "$x_0 = -2$  \n",
    "$x_1 = -1$  \n",
    "$x_2 = 0$  \n",
    "$x_3 = 1$  \n",
    "$y_0 = f_0(x_0) = -7$  \n",
    "$y_1 = f_1(x_1) = 4$  \n",
    "$y_2 = f_2(x_2) = 1$  \n",
    "$y_3 = f_3(x_3) = 2$  \n",
    "\n",
    "$    L_3(x) = -7\\frac{(x+1)(x-0)(x-1)}{(-2+1)(-2-0)(-2-1)} + 4\\frac{(x+2)(x-0)(x-1)}{(-1+2)(-1-0)(-1-1)} + 1\\frac{(x+2)(x+1)(x-1)}{(0+2)(0+1)(0-1)} + 2\\frac{(x+2)(x+1)(x-0)}{(1+2)(1+1)(1-0)} \\\\\n",
    "= 7\\frac{x^3-x}{6} + 4\\frac{x^3+x^2-2x}{2} + \\frac{x^3+2x^2-x-2}{-2} + 2\\frac{x^3+3x^2+2x}{6} \\\\\n",
    "= \\frac{7(x^3-x)}{6} + \\frac{12(x^3+x^2-2x)}{6} + \\frac{-3(x^3+2x^2-x-2)}{6} + \\frac{2(x^3+3x^2+2x)}{6} \\\\\n",
    "= (7x^3 - 7x + 12x^3 + 12x^2 - 24x - 3x^3 - 6x^2 + 3x + 6 + 2x^3 + 6x^2 + 4x) * 1/6 \\\\\n",
    "= 3 * x^3 + 2 * x^2 - 4 * x + 1$ \n",
    "\n",
    "Points  \n",
    "|$x_i$|-3|-1.5|0.5|1.5|\n",
    "|:-:|:-:|:-:|:-:|:-:|\n",
    "|$L(x_i)$|?|?|?|?|\n",
    "\n",
    "$x_0 = -3$  \n",
    "$x_1 = -1.5$  \n",
    "$x_2 = 0.5$  \n",
    "$x_3 = 1.5$  \n",
    "\n",
    "$L_3(x_0) = 3 * (-3)^3 + 2 * (-3)^2 - 4(-3) + 1 = -50$  \n",
    "$L_3(x_1) = 3 * (-1.5)^3 + 2 * (-1.5)^2 - 4(-1.5) + 1 = 1.375$  \n",
    "$L_3(x_2) = 3 * (0.5)^3 + 2 * (0.5)^2 - 4(0.5) + 1 = -0.125$  \n",
    "$L_3(x_3) = 3 * (1.5)^3 + 2 * (1.5)^2 - 4(1.5) + 1 = 9.625$  \n",
    "\n"
   ]
  },
  {
   "cell_type": "code",
   "execution_count": 19,
   "metadata": {},
   "outputs": [
    {
     "data": {
      "image/png": "[encoded data removed]",
      "text/plain": [
       "<Figure size 640x480 with 1 Axes>"
      ]
     },
     "metadata": {},
     "output_type": "display_data"
    }
   ],
   "source": [
    "import numpy as np\n",
    "import matplotlib.pyplot as plt\n",
    "\n",
    "x_values = [-3, -1.5, 0.5, 1.5]\n",
    "y_values = [-50, 1.375, -0.125, 9.625]\n",
    "\n",
    "def base_equation(x):\n",
    "    return 3 * x**3 + 2 * x**2 - 4 * x + 1\n",
    "\n",
    "x_base = np.linspace(min(x_values), max(x_values), 100)\n",
    "y_base = base_equation(x_base)\n",
    "\n",
    "\n",
    "plt.plot(x_values, y_values, 'bo', label='Points')\n",
    "plt.plot(x_base, y_base, 'r-', label='Laplace equation')\n",
    "\n",
    "plt.xlabel('x')\n",
    "plt.ylabel('y')\n",
    "plt.title('Graph of the Equation: $3x^3 + 2x^2 - 4x + 1$')\n",
    "\n",
    "\n",
    "plt.legend()\n",
    "\n",
    "plt.grid(True)\n",
    "plt.show()\n"
   ]
  },
  {
   "cell_type": "markdown",
   "metadata": {},
   "source": [
    "## 2.\n",
    "Завдання 3. Знайти з точністю 0,001 розв’язок СЛАР методом Гауса-Зейделя. Для виконання завдання розробити програму на одній з мов програмування.\n",
    "\n",
    "$3x_1 + 12x_2 + (-1)x_3 + 0x_4 = 18$  \n",
    "$-5x_1 + 2x_2 + 0x_3 + 32x_4 = 15$  \n",
    "$2x_1 + 0x_2 + 16x_3 + (-3)x_4 = 0$  \n",
    "$12x_1 + 3x_2 + 0x_3 + 0x_4 = 21$  \n",
    "\n",
    "\n",
    "$x_1 = \\frac{18-12x_2+x_3}{3}$  \n",
    "$x_2 = \\frac{15+5x_1-32x_4}{2}$  \n",
    "$x_3 = \\frac{-2x_1+3x_4}{16}$  \n",
    "$x_4 = \\frac{2x_1 + 15x_3}{3}$  \n"
   ]
  },
  {
   "cell_type": "code",
   "execution_count": 90,
   "metadata": {},
   "outputs": [
    {
     "name": "stdout",
     "output_type": "stream",
     "text": [
      "Solution:\n",
      "x_1 = 1.472\n",
      "x_2 = 1.112\n",
      "x_3 = -0.242\n",
      "x_4 = -0.308\n"
     ]
    }
   ],
   "source": [
    "def swap_rows(matrix, i, j):\n",
    "    temp = np.copy(matrix[i])\n",
    "    matrix[i] = matrix[j]\n",
    "    matrix[j] = temp\n",
    "\n",
    "A = np.array([[3, 12, -1, 0],\n",
    "              [-5, 2, 0, 32],\n",
    "              [2, 0, 16, -3],\n",
    "              [12, 3, 0, 0]], dtype=float)\n",
    "b = np.array([18, -15, 0, 21], dtype=float)\n",
    "\n",
    "\n",
    "def gauss_seidel_solver(A, b, max_iterations=100, tolerance=1e-6):\n",
    "    # Initial guess for the solution\n",
    "    x = np.array([0, 0, 0, 0], dtype=float)\n",
    "    \n",
    "    for iteration in range(max_iterations):\n",
    "        x_old = x.copy()\n",
    "        for i in range(len(b)):\n",
    "            x[i] = (b[i] - np.dot(A[i, :i], x[:i]) - np.dot(A[i, i + 1:], x_old[i + 1:])) / A[i, i]\n",
    "        \n",
    "        # Check for convergence\n",
    "        if np.linalg.norm(x - x_old) < tolerance:\n",
    "            break\n",
    "    \n",
    "    return x\n",
    "\n",
    "\n",
    "swap_rows(A, 0, 3)\n",
    "swap_rows(A, 1, 3)\n",
    "b[0], b[3] = b[3], b[0]\n",
    "b[1], b[3] = b[3], b[1]\n",
    "\n",
    "solution = gauss_seidel_solver(A, b, 10)\n",
    "\n",
    "\n",
    "print(\"Solution:\")\n",
    "for i in range(len(solution)):\n",
    "    print(f\"x_{i+1} = {solution[i]:.3f}\")\n"
   ]
  }
 ],
 "metadata": {
  "kernelspec": {
   "display_name": "Python 3",
   "language": "python",
   "name": "python3"
  },
  "language_info": {
   "codemirror_mode": {
    "name": "ipython",
    "version": 3
   },
   "file_extension": ".py",
   "mimetype": "text/x-python",
   "name": "python",
   "nbconvert_exporter": "python",
   "pygments_lexer": "ipython3",
   "version": "3.11.4"
  }
 },
 "nbformat": 4,
 "nbformat_minor": 2
}

{
 "cells": [
  {
   "cell_type": "code",
   "execution_count": 1,
   "metadata": {},
   "outputs": [],
   "source": [
    "import numpy as np\n",
    "import matplotlib.pyplot as plt"
   ]
  },
  {
   "attachments": {
    "image.png": {
     "image/png": "[encoded data removed]"
    }
   },
   "cell_type": "markdown",
   "metadata": {},
   "source": [
    "# Модульна контрольна робота №1\n",
    "## Частина 2\n",
    "### Студента групи ТВ-12\n",
    "### Аванесова Тiграна\n",
    "### Варiант 1\n",
    "#### Задача (15 балів). Погода описується ланцюгом Маркова у вигляді розміченого графом станів та переходів, де:\n",
    "- S1 – сьогодні погода сонячна;  \n",
    "- S2 – сьогодні погода хмарна.  \n",
    "\n",
    "![image.png](attachment:image.png)\n",
    "\n",
    "Матриця перехідних ймовірностей має вигляд:  \n",
    "\n",
    "$||P_{ij}|| = \\begin{bmatrix}  0.N & 1-0.N \\\\  0.3 & 0.7 \\end{bmatrix}$\n",
    "\n",
    "де N – номер вашого варіанту у файлі в клас-румі МОНІТОРИНГ \n",
    "ВІДВІДУВАННЯ ЗАНЯТЬ.\n",
    "\n",
    "Знайти ймовірність погоди (сонячної або хмарної) через 2 дні за умови, що в\n",
    "початковий момент погода хмарна:\n",
    "- варіанти 1-14 – сонячної погоди;"
   ]
  },
  {
   "cell_type": "markdown",
   "metadata": {},
   "source": [
    "Матриця перехiдних ймовiрностей:  \n",
    "$||P_{ij}||=\\begin{bmatrix}  0.1 & 0.9 \\\\  0.3 & 0.7 \\end{bmatrix}$\n",
    "\n",
    "Помножимо матрицю перехiдних ймовiрностей на себе (потрiбно знайти погоду через 2 днi):\n",
    "\n",
    "$P * P = \\begin{bmatrix}  0.1 & 0.9 \\\\  0.3 & 0.7 \\end{bmatrix} * \\begin{bmatrix}  0.1 & 0.9 \\\\  0.3 & 0.7 \\end{bmatrix} = \\begin{bmatrix}  0.1*0.1 + 0.9*0.3 & 0.1*0.9 + 0.9*0.7 \\\\  0.3*0.1 + 0.7*0.3 & 0.3*0.9 + 0.7*0.7 \\end{bmatrix} = \\begin{bmatrix}  0.28 & 0.72 \\\\  0.24 & 0.76 \\end{bmatrix}$"
   ]
  },
  {
   "cell_type": "code",
   "execution_count": 2,
   "metadata": {},
   "outputs": [
    {
     "name": "stdout",
     "output_type": "stream",
     "text": [
      "[0.28, 0.72]\n",
      "[0.24, 0.76]\n"
     ]
    }
   ],
   "source": [
    "def matrix_multiply(matrix1, matrix2):\n",
    "    rows1 = len(matrix1)\n",
    "    cols1 = len(matrix1[0])\n",
    "    rows2 = len(matrix2)\n",
    "    cols2 = len(matrix2[0])\n",
    "    \n",
    "    if cols1 != rows2:\n",
    "        print(\"Column count in matrix1 must be equal to row count in matrix2.\")\n",
    "        return None\n",
    "    \n",
    "    result = [[0 for _ in range(cols2)] for _ in range(rows1)]\n",
    "    \n",
    "    for i in range(rows1):\n",
    "        for j in range(cols2):\n",
    "            for k in range(cols1):\n",
    "                result[i][j] += matrix1[i][k] * matrix2[k][j]\n",
    "    \n",
    "    return result\n",
    "\n",
    "matrix =   [[0.1, 0.9],\n",
    "            [0.3, 0.7]]\n",
    "result_matrix = matrix_multiply(matrix, matrix)\n",
    "\n",
    "if result_matrix:\n",
    "    for row in result_matrix:\n",
    "        print(row)"
   ]
  },
  {
   "cell_type": "markdown",
   "metadata": {},
   "source": [
    "Початковий стан:  \n",
    "- $S_2$ (хмарна погода)\n",
    "\n",
    "Використвоуємо ймовiрностi:  \n",
    "- $P_{21} = 0.24$\n",
    "- $P_{22} = 0.76$\n",
    "\n",
    "Ймовiрнiсть сонячної погоди ($S_2 => S_1$) через 2 днi = $P_{21} = 0.24$"
   ]
  },
  {
   "cell_type": "markdown",
   "metadata": {},
   "source": [
    "#### Запрограмувати результати будь-якою мовою програмування:\n",
    "1. Результати обчислень (обрізаний скриншот вашої власної програми), де\n",
    "буде представлено:\n",
    "   - матриця перехідних імовірностей:  \n",
    "   $||P_{ij}||=\\begin{bmatrix}  0.1 & 0.9 \\\\  0.3 & 0.7 \\end{bmatrix}$\n",
    "   - розрахунок імовірностей станів:  \n",
    "   початкові імовірності станів:  \n",
    "   $p_1(0) = 0, p_2(0) = 1$    \n",
    "   після 1-го дня:  \n",
    "   $p_1(0) = P_{21} = 0.3, p_2(0) = P_{22} = 0.7$    \n",
    "   після 2-го дня:  \n",
    "   $p_1(0) = P_{21} = 0.24, p_2(0) = P_{22} = 0.76$    \n",
    "1. Відповідь: $0.24$.\n",
    "2. Код вашої програми."
   ]
  }
 ],
 "metadata": {
  "kernelspec": {
   "display_name": "Python 3",
   "language": "python",
   "name": "python3"
  },
  "language_info": {
   "codemirror_mode": {
    "name": "ipython",
    "version": 3
   },
   "file_extension": ".py",
   "mimetype": "text/x-python",
   "name": "python",
   "nbconvert_exporter": "python",
   "pygments_lexer": "ipython3",
   "version": "3.11.4"
  }
 },
 "nbformat": 4,
 "nbformat_minor": 2
}
